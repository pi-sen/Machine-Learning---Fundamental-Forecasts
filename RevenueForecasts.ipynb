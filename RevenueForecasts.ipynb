{
 "cells": [
  {
   "cell_type": "markdown",
   "id": "7214aa92-9b51-4df1-8d3a-04957bec3275",
   "metadata": {},
   "source": [
    "## Financial Forecasting Project"
   ]
  },
  {
   "cell_type": "markdown",
   "id": "18424f6d-f71f-44fc-ba6a-8a92bf959462",
   "metadata": {},
   "source": [
    "The objective is to develop a linear model that accurately predicts quarterly revenue growth for companies using a dataset of financial and economic indicators. The model will utilize 4,000 different features from 15,000 observations to make these predictions. Success will be measured by the model's Mean Squared Error (MSE) performance on a test dataset, aiming to provide reliable revenue growth forecasts for investment decision-making."
   ]
  },
  {
   "cell_type": "code",
   "execution_count": 3,
   "id": "d9a19e28-8268-46e7-9d42-576ad2f07095",
   "metadata": {
    "tags": []
   },
   "outputs": [],
   "source": [
    "# Import necessary libraries\n",
    "import pandas as pd\n",
    "import numpy as np\n",
    "import jax.numpy as jnp\n",
    "import matplotlib.pyplot as plt\n",
    "import jax\n",
    "import optax\n",
    "\n",
    "# Set random seed for reproducibility\n",
    "np.random.seed(420)\n",
    "\n",
    "# Load feature matrix (X) and target variable (y) from .npy files\n",
    "X = np.load(\"C:/Users/piyus/OneDrive/Piyush_Personal/Piyush/Financial Engineering/Courses/Self projects/Fundamental Forecasts/X.npy\")\n",
    "y = np.load(\"C:/Users/piyus/OneDrive/Piyush_Personal/Piyush/Financial Engineering/Courses/Self projects/Fundamental Forecasts/y.npy\")"
   ]
  },
  {
   "cell_type": "code",
   "execution_count": 4,
   "id": "7161b111-3dc8-4147-b67e-a5b3c3f23abb",
   "metadata": {
    "tags": []
   },
   "outputs": [],
   "source": [
    "#80% Train | 10% Validation | 10% Test\n",
    "i = int(0.8*len(X))\n",
    "j = int(0.9*len(X))\n",
    "idx = np.random.permutation(len(X))\n",
    "X = X[idx]\n",
    "y = y[idx]\n",
    "x_train = X[:i]\n",
    "y_train = y[:i]\n",
    "x_val = X[i:j]\n",
    "y_val = y[i:j]\n",
    "x_test = X[j:]\n",
    "y_test = y[j:]\n",
    "#print(len(x_train))\n",
    "#print(len(x_val))\n",
    "#print(len(x_test))\n",
    "#x_train.shape[1]"
   ]
  },
  {
   "cell_type": "markdown",
   "id": "28d6e8ed-a387-483d-aeab-98b8d07f7396",
   "metadata": {},
   "source": [
    "Now, we set up hyperparameter tuning for a regularized machine learning model using the Adam optimizer:\n",
    "\n",
    "The penalty function implements L2 regularization (Ridge), which helps prevent overfitting by adding a term λ/2 Σθ² to the loss function, where θ represents model parameters.\n",
    "\n",
    "Multiple hyperparameter lists are defined for grid search:\n",
    "- Learning rates (α)\n",
    "- Momentum coefficients (beta)\n",
    "- Adaptive learning rates (beta2)\n",
    "- Regularization strengths (λ)\n",
    "- Batch sizes\n",
    "- Number of models for ensemble\n",
    "\n",
    "These hyperparameters will be used to find the optimal combination that minimizes the model's error while preventing overfitting through regularization and efficient optimization using the Adam algorithm."
   ]
  },
  {
   "cell_type": "code",
   "execution_count": 5,
   "id": "8c29dd84-d5d9-42fb-81ab-5c01473ba4ac",
   "metadata": {
    "tags": []
   },
   "outputs": [],
   "source": [
    "# Define the penalty function for regularization\n",
    "def penalty(θ, λ, X):\n",
    "    \"\"\"\n",
    "    Calculate the L2 regularization penalty.\n",
    "    \n",
    "    Args:\n",
    "    θ (array): Model parameters\n",
    "    λ (float): Regularization strength\n",
    "    X (array): Input features (not used in this implementation, but kept for consistency)\n",
    "    \n",
    "    Returns:\n",
    "    float: The L2 penalty term\n",
    "    \"\"\"\n",
    "    return λ / 2 * jnp.sum(θ**2)\n",
    "\n",
    "# Define hyperparameter lists for grid search\n",
    "# Learning rates\n",
    "α_list = [0.1, 0.05, 0.01, 1e-3, 1e-4, 1e-6]\n",
    "\n",
    "# Beta values for momentum (Adam optimizer)\n",
    "beta_list = [0, 0.2, 0.5, 0.9, 0.99, 0.999]\n",
    "\n",
    "# Beta2 values for adaptive learning rate (Adam optimizer)\n",
    "beta2_list = [0, 0.2, 0.5, 0.9, 0.99, 0.999]\n",
    "\n",
    "# Regularization strengths\n",
    "λ_list = [0.01, 0.1, 0.2, 0.5]\n",
    "\n",
    "# Batch sizes for mini-batch gradient descent\n",
    "batch_size_list = [10, 20, 50, 100]\n",
    "\n",
    "# Number of models to ensemble\n",
    "n_model_list = [1, 10, 20, 50]"
   ]
  },
  {
   "cell_type": "markdown",
   "id": "3a241941-ab45-49cf-9ef0-5d274fa69c97",
   "metadata": {},
   "source": [
    "Now we develop the implementation through the following steps:\n",
    "\n",
    "1. Implement essential functions for model training including loss calculation (MSE), parameter updates using Adam optimizer, and model evaluation.\n",
    "2. Use JAX for efficient computation with JIT compilation and vectorization (@jax.jit, @jax.vmap).\n",
    "3. Include functionality for ensemble learning (stack), visualization (plot), and mini-batch training (sample).\n",
    "\n",
    "JAX:\n",
    "JAX is a powerful Python library that combines NumPy's familiar interface with advanced features for machine learning. It provides automatic differentiation (automatically computing gradients), hardware acceleration (GPU/TPU support), and compilation optimizations.\n",
    "\n",
    "JIT (Just-In-Time Compilation):\n",
    "Just-In-Time compilation is a performance optimization technique that converts Python code into optimized machine code at runtime, rather than interpreting it line by line. When we mark a function with @jax.jit, the first time that function is called, JAX compiles it into highly efficient machine code. This compilation process might take a moment initially, but subsequent calls to the function are significantly faster because they use the compiled version. "
   ]
  },
  {
   "cell_type": "code",
   "execution_count": 30,
   "id": "751b01db-62fe-468a-bbaa-e292b8761a31",
   "metadata": {
    "tags": []
   },
   "outputs": [],
   "source": [
    "# Stack function creates multiple copies of model parameters for ensemble learning\n",
    "def stack(Θ):\n",
    "    return jnp.array([Θ] * n_model)\n",
    "\n",
    "# Mean Squared Error calculation\n",
    "def mse(a, b):\n",
    "    return ((a - b)**2).mean()\n",
    "\n",
    "# Visualization function to plot predictions vs actual values\n",
    "def plot(x, y):\n",
    "    # Find range of data\n",
    "    i = min(min(x), min(y))\n",
    "    j = max(max(x), max(y))\n",
    "    # Create perfect prediction line\n",
    "    i2 = np.linspace(i, j, len(x))\n",
    "    j2 = i2\n",
    "    # Plot scatter of predictions and perfect prediction line\n",
    "    plt.scatter(x, y)\n",
    "    plt.plot(i2, j2, color=\"red\")\n",
    "    plt.xlabel('Prediction')\n",
    "    plt.ylabel('y')\n",
    "    plt.legend()\n",
    "    plt.show()\n",
    "\n",
    "# JIT-compiled function to evaluate model on validation set\n",
    "@jax.jit\n",
    "@jax.vmap\n",
    "def evaluate(Θ):\n",
    "    return mse(x_val @ Θ, y_val)\n",
    "\n",
    "# Test set evaluation\n",
    "def test(Θ):\n",
    "    return mse(x_test @ Θ, y_test)\n",
    "\n",
    "# Update function for model parameters using Adam optimizer\n",
    "def update(Θ, opt_state, X, y, α, β, β2, λ):\n",
    "    # Loss function with L2 regularization\n",
    "    def L(Θ, X, y):\n",
    "        predict = X @ Θ\n",
    "        return mse(predict, y) + λ * Θ @ Θ\n",
    "\n",
    "    # Calculate gradients\n",
    "    grad = jax.grad(L)(Θ, X, y)\n",
    "    \n",
    "    # Apply Adam optimizer\n",
    "    optmizer = optax.adam(α, β, β2)\n",
    "    updates, opt_state = optmizer.update(grad, opt_state)\n",
    "    Θ = optax.apply_updates(Θ, updates)\n",
    "    return Θ, opt_state\n",
    "\n",
    "# JIT-compile and vectorize update function\n",
    "update = jax.jit(jax.vmap(update, in_axes=(0, 0, None, None, 0, 0, 0, 0)))\n",
    "\n",
    "# Random batch sampling for mini-batch gradient descent\n",
    "def sample(batch_size):\n",
    "    idx = np.random.choice(len(x_train), batch_size)\n",
    "    return x_train[idx], y_train[idx]"
   ]
  },
  {
   "cell_type": "code",
   "execution_count": 7,
   "id": "14f34fdb-fa43-47eb-b074-b9bcdf3004f3",
   "metadata": {
    "tags": []
   },
   "outputs": [
    {
     "name": "stdout",
     "output_type": "stream",
     "text": [
      "Number of samples: 15000\n",
      "Number of features: 4000\n"
     ]
    }
   ],
   "source": [
    "num_samples, num_features = X.shape\n",
    "print(f\"Number of samples: {num_samples}\")\n",
    "print(f\"Number of features: {num_features}\")"
   ]
  },
  {
   "cell_type": "markdown",
   "id": "2f03acb9-b78e-429f-9abd-7b05e50f8064",
   "metadata": {},
   "source": [
    "We now implement an advanced hyperparameter tuning strategy that combines ensemble learning with the Adam optimizer. The process begins by iterating through different batch sizes and ensemble sizes, where for each combination, multiple models are trained simultaneously with randomly sampled hyperparameters. These hyperparameters include learning rates, momentum parameters, and regularization strengths.\n",
    "\n",
    "During training, the code initializes model parameters and optimizer states, then creates an ensemble by stacking these parameters. The training process runs for 5000 iterations, using mini-batch gradient descent where each iteration processes a random batch of training data. \n",
    "\n",
    "The Adam optimizer updates the model parameters using the specified hyperparameters.\n",
    "\n",
    "After training, the code selects the best performing model from the ensemble based on validation error (MSE). The parameters and hyperparameters of this best model are stored in a dictionary, including its learning rate, regularization strength, momentum parameters, batch size, and ensemble size. All these results are collected in the θ2 list for later analysis and comparison. This comprehensive approach helps identify the optimal combination of hyperparameters while benefiting from the improved robustness that ensemble learning provides."
   ]
  },
  {
   "cell_type": "code",
   "execution_count": 38,
   "id": "d1cad49a-c5db-4e88-be99-0b82fe980442",
   "metadata": {
    "tags": []
   },
   "outputs": [],
   "source": [
    "θ2 = []\n",
    "# Iterate through different batch sizes and ensemble sizes\n",
    "for batch_size in batch_size_list:\n",
    "    for n_model in n_model_list:\n",
    "        # Get number of features from training data\n",
    "        n_features = x_train.shape[1]\n",
    "        \n",
    "        # Randomly sample hyperparameters for each model in ensemble\n",
    "        α_vec = np.random.choice(α_list, n_model)      # Learning rates\n",
    "        β_vec = np.random.choice(beta_list, n_model)   # Momentum parameters\n",
    "        β2_vec = np.random.choice(beta2_list, n_model) # Second moment estimates\n",
    "        λ_vec = np.random.choice(λ_list, n_model)      # Regularization strengths\n",
    "\n",
    "        # Initialize Adam optimizer with first set of hyperparameters\n",
    "        optmizer = optax.adam(α_vec[0], β_vec[0], β2_vec[0])\n",
    "        \n",
    "        # Initialize model parameters with zeros\n",
    "        Θ = jnp.zeros(n_features)\n",
    "        opt_state = optmizer.init(Θ)\n",
    "\n",
    "        # Create ensemble by stacking parameters and optimizer states\n",
    "        Θ = stack(Θ)\n",
    "        opt_state = jax.tree.map(stack, opt_state)\n",
    "\n",
    "        # Training loop\n",
    "        for iteration in range(5000):\n",
    "            # Get random batch of training data\n",
    "            Xi, yi = sample(batch_size)\n",
    "            \n",
    "            # Update model parameters using Adam\n",
    "            Θ, opt_state = update(Θ, opt_state, Xi, yi, α_vec, β_vec, β2_vec, λ_vec)\n",
    "\n",
    "        # Select best model from ensemble based on validation error\n",
    "        idx_best = jnp.argmin(evaluate(Θ))\n",
    "        \n",
    "        # Store best model's parameters and hyperparameters\n",
    "        θ_dic = {\n",
    "            \"α\": α_vec[idx_best],\n",
    "            \"λ\": λ_vec[idx_best],\n",
    "            \"β\": β_vec[idx_best],\n",
    "            \"β2\": β2_vec[idx_best],\n",
    "            \"batch_size\": batch_size,\n",
    "            \"n_model\": n_model,\n",
    "            \"MSE\": evaluate(Θ)[idx_best],\n",
    "            \"Θ\": Θ[idx_best]\n",
    "        }\n",
    "        θ2.append(θ_dic)"
   ]
  },
  {
   "cell_type": "code",
   "execution_count": 39,
   "id": "5dbf30f4-0327-4154-b54d-a1520c7d58f1",
   "metadata": {
    "tags": []
   },
   "outputs": [
    {
     "name": "stderr",
     "output_type": "stream",
     "text": [
      "No artists with labels found to put in legend.  Note that artists whose label start with an underscore are ignored when legend() is called with no argument.\n"
     ]
    },
    {
     "name": "stdout",
     "output_type": "stream",
     "text": [
      "{'α': 0.001, 'λ': 0.01, 'β': 0.9, 'β2': 0.9, 'batch_size': 100, 'n_model': 50, 'MSE': Array(0.28223032, dtype=float32), 'Θ': Array([-2.7792785e+00,  2.5674205e+00,  1.9714857e+00, ...,\n",
      "       -3.7100650e-03,  9.8252215e-04, -5.1031881e-03], dtype=float32)}\n",
      "[-2.7792785e+00  2.5674205e+00  1.9714857e+00 ... -3.7100650e-03\n",
      "  9.8252215e-04 -5.1031881e-03]\n"
     ]
    },
    {
     "data": {
      "image/png": "[encoded data removed]",
      "text/plain": [
       "<Figure size 640x480 with 1 Axes>"
      ]
     },
     "metadata": {},
     "output_type": "display_data"
    }
   ],
   "source": [
    "#Select best model\n",
    "min_MSE = θ2[0][\"MSE\"]\n",
    "min_MSE\n",
    "for i in range(len(θ2)):\n",
    "  if θ2[i][\"MSE\"] < min_MSE:\n",
    "    min_MSE = θ2[i][\"MSE\"]\n",
    "    best_model = θ2[i]\n",
    "print(best_model)\n",
    "print(best_model['Θ'])\n",
    "pred =  x_val @ best_model['Θ']\n",
    "plot(pred, y_val)"
   ]
  },
  {
   "cell_type": "code",
   "execution_count": 42,
   "id": "60dd869b-1561-43d6-9cd4-0f8ace7fec1e",
   "metadata": {
    "tags": []
   },
   "outputs": [
    {
     "name": "stderr",
     "output_type": "stream",
     "text": [
      "No artists with labels found to put in legend.  Note that artists whose label start with an underscore are ignored when legend() is called with no argument.\n"
     ]
    },
    {
     "name": "stdout",
     "output_type": "stream",
     "text": [
      "0.29127756\n"
     ]
    },
    {
     "data": {
      "image/png": "[encoded data removed]",
      "text/plain": [
       "<Figure size 640x480 with 1 Axes>"
      ]
     },
     "metadata": {},
     "output_type": "display_data"
    }
   ],
   "source": [
    "# Test the best model on the test set\n",
    "MSE_test = test(best_model['Θ'])\n",
    "print(MSE_test)  # Print the Mean Squared Error on the test set\n",
    "\n",
    "# Generate predictions using the best model\n",
    "pred = x_test @ best_model['Θ']\n",
    "\n",
    "# Visualize the predictions vs actual values\n",
    "plot(pred, y_test)\n",
    "\n",
    "# Store the parameters of the best model\n",
    "final_θ = best_model['Θ']"
   ]
  },
  {
   "cell_type": "markdown",
   "id": "4f79c482-96f9-4e7e-974b-6740749b9c91",
   "metadata": {},
   "source": [
    "The Value_at_Risk function is a crucial tool in financial risk assessment that calculates the Historical Value at Risk (VaR) by comparing predicted and actual values. The function begins by calculating returns as percentage changes for both the actual and predicted values, using the formula (new value - old value)/old value. These returns represent the period-over-period changes in the financial metric being analyzed.\n",
    "\n",
    "The function then computes the residuals, which are the differences between actual and predicted returns, to understand the model's prediction errors. Using a standard 95% confidence level (common in financial risk analysis), it calculates the historical VaR by finding the 5th percentile of these residuals. This percentile represents the threshold for the worst-case scenario that could occur with 5% probability.\n"
   ]
  },
  {
   "cell_type": "code",
   "execution_count": 44,
   "id": "bca0f9cb-4aa2-4b99-b8f3-f4675d42e303",
   "metadata": {
    "tags": []
   },
   "outputs": [
    {
     "name": "stdout",
     "output_type": "stream",
     "text": [
      "Historical VaR at 95% confidence level: -4.57%\n"
     ]
    }
   ],
   "source": [
    "def Value_at_Risk(x, y):\n",
    "    \"\"\"\n",
    "    Calculate the Historical Value at Risk (VaR) based on the model predictions and actual values.\n",
    "    \n",
    "    Args:\n",
    "    x (array): Predicted values\n",
    "    y (array): Actual values\n",
    "    \n",
    "    Returns:\n",
    "    None (prints the VaR)\n",
    "    \"\"\"\n",
    "    # Calculate actual and predicted returns\n",
    "    actual_returns = (y[1:] - y[:-1]) / y[:-1]\n",
    "    predicted_returns = (x[1:] - x[:-1]) / x[:-1]\n",
    "    \n",
    "    # Calculate residuals (difference between actual and predicted returns)\n",
    "    residuals = actual_returns - predicted_returns\n",
    "    \n",
    "    # Set confidence level for VaR\n",
    "    confidence_level = 0.95\n",
    "    percentile = 1 - confidence_level\n",
    "    \n",
    "    # Calculate Historical VaR\n",
    "    historical_var = np.percentile(residuals, percentile * 100)\n",
    "    historical_var = round(historical_var, 2)\n",
    "    \n",
    "    # Print the result\n",
    "    print(f\"Historical VaR at 95% confidence level: {historical_var}%\")\n",
    "\n",
    "# Calculate and print VaR for the best model\n",
    "Value_at_Risk(pred, y_test)"
   ]
  },
  {
   "cell_type": "code",
   "execution_count": 12,
   "id": "5f7a3f39-f820-468b-846e-e8e59864d89c",
   "metadata": {
    "tags": []
   },
   "outputs": [],
   "source": [
    "def f(X):\n",
    "    \"\"\"\n",
    "    Prediction function using the final model parameters.\n",
    "    \n",
    "    Args:\n",
    "    X (array): Input features\n",
    "    \n",
    "    Returns:\n",
    "    array: Predicted values\n",
    "    \"\"\"\n",
    "    return X @ final_θ"
   ]
  },
  {
   "cell_type": "code",
   "execution_count": null,
   "id": "08ec14e5-be39-4b3b-8394-e532fff5d86d",
   "metadata": {},
   "outputs": [],
   "source": []
  }
 ],
 "metadata": {
  "kernelspec": {
   "display_name": "Python 3 (ipykernel)",
   "language": "python",
   "name": "python3"
  },
  "language_info": {
   "codemirror_mode": {
    "name": "ipython",
    "version": 3
   },
   "file_extension": ".py",
   "mimetype": "text/x-python",
   "name": "python",
   "nbconvert_exporter": "python",
   "pygments_lexer": "ipython3",
   "version": "3.11.5"
  }
 },
 "nbformat": 4,
 "nbformat_minor": 5
}
