{
 "cells": [
  {
   "cell_type": "code",
   "execution_count": 24,
   "id": "7161b111-3dc8-4147-b67e-a5b3c3f23abb",
   "metadata": {
    "tags": []
   },
   "outputs": [],
   "source": [
    "# Import necessary libraries\n",
    "import pandas as pd\n",
    "import numpy as np\n",
    "import jax.numpy as jnp\n",
    "import matplotlib.pyplot as plt\n",
    "import jax\n",
    "import optax\n",
    "\n",
    "# Set random seed for reproducibility\n",
    "np.random.seed(420)\n",
    "\n",
    "# Load feature matrix (X) and target variable (y) from .npy files\n",
    "X = np.load(\"C:/Users/piyus/OneDrive/Piyush_Personal/Piyush/Financial Engineering/Courses/Self projects/Fundamental Forecasts/X.npy\")\n",
    "y = np.load(\"C:/Users/piyus/OneDrive/Piyush_Personal/Piyush/Financial Engineering/Courses/Self projects/Fundamental Forecasts/y.npy\")\n",
    "\n",
    "# Split data into train, validation, and test sets\n",
    "i = int(0.8*len(X))  # Index for 80% of data (train set end)\n",
    "j = int(0.9*len(X))  # Index for 90% of data (validation set end)\n",
    "\n",
    "# Shuffle the data randomly\n",
    "idx = np.random.permutation(len(X))\n",
    "X = X[idx]\n",
    "y = y[idx]\n",
    "\n",
    "# Create train, validation, and test sets\n",
    "x_train, y_train = X[:i], y[:i]  # 80% for training\n",
    "x_val, y_val = X[i:j], y[i:j]    # 10% for validation\n",
    "x_test, y_test = X[j:], y[j:]    # 10% for testing"
   ]
  },
  {
   "cell_type": "code",
   "execution_count": 29,
   "id": "8c29dd84-d5d9-42fb-81ab-5c01473ba4ac",
   "metadata": {
    "tags": []
   },
   "outputs": [],
   "source": [
    "# Define the penalty function for regularization\n",
    "def penalty(θ, λ, X):\n",
    "    \"\"\"\n",
    "    Calculate the L2 regularization penalty.\n",
    "    \n",
    "    Args:\n",
    "    θ (array): Model parameters\n",
    "    λ (float): Regularization strength\n",
    "    X (array): Input features (not used in this implementation, but kept for consistency)\n",
    "    \n",
    "    Returns:\n",
    "    float: The L2 penalty term\n",
    "    \"\"\"\n",
    "    return λ / 2 * jnp.sum(θ**2)\n",
    "\n",
    "# Define hyperparameter lists for grid search\n",
    "# Learning rates\n",
    "α_list = [0.1, 0.05, 0.01, 1e-3, 1e-4, 1e-6]\n",
    "\n",
    "# Beta values for momentum (Adam optimizer)\n",
    "beta_list = [0, 0.2, 0.5, 0.9, 0.99, 0.999]\n",
    "\n",
    "# Beta2 values for adaptive learning rate (Adam optimizer)\n",
    "beta2_list = [0, 0.2, 0.5, 0.9, 0.99, 0.999]\n",
    "\n",
    "# Regularization strengths\n",
    "λ_list = [0.01, 0.1, 0.2, 0.5]\n",
    "\n",
    "# Batch sizes for mini-batch gradient descent\n",
    "batch_size_list = [10, 20, 50, 100]\n",
    "\n",
    "# Number of models to ensemble\n",
    "n_model_list = [1, 10, 20, 50]"
   ]
  },
  {
   "cell_type": "code",
   "execution_count": 43,
   "id": "751b01db-62fe-468a-bbaa-e292b8761a31",
   "metadata": {
    "tags": []
   },
   "outputs": [],
   "source": [
    "def stack(Θ):\n",
    "  return jnp.array([Θ] * n_model)\n",
    "\n",
    "\n",
    "def mse(a, b):\n",
    "  return ((a - b)**2).mean()\n",
    "\n",
    "def plot(x, y):\n",
    "  i = min(min(x),min(y))\n",
    "  j = max(max(x),max(y))\n",
    "  i2 = np.linspace(i, j, len(x))\n",
    "  j2 = i2\n",
    "  plt.scatter(x,y)\n",
    "  plt.plot(i2,j2,color = \"red\")\n",
    "  plt.xlabel('Prediction')\n",
    "  plt.ylabel('y')\n",
    "  plt.legend()\n",
    "  plt.show()\n",
    "\n",
    "@jax.jit\n",
    "@jax.vmap\n",
    "def evaluate(Θ):\n",
    "    return mse(x_val @ Θ, y_val)\n",
    "\n",
    "def test(Θ):\n",
    "    return mse(x_test @ Θ, y_test)\n",
    "\n",
    "def update(Θ, opt_state, X, y, α, β, β2, λ):\n",
    "  def L(Θ, X, y):\n",
    "    predict = X @ Θ\n",
    "    return mse(predict, y) + λ * Θ @ Θ\n",
    "\n",
    "  grad = jax.grad(L)(Θ, X, y)\n",
    "\n",
    "  optmizer = optax.adam(α, β, β2)\n",
    "  updates, opt_state = optmizer.update(grad, opt_state)\n",
    "  Θ = optax.apply_updates(Θ, updates)\n",
    "  return Θ, opt_state\n",
    "\n",
    "update = jax.jit(jax.vmap(update, in_axes=(0, 0, None, None, 0, 0, 0, 0)))\n",
    "\n",
    "def sample(batch_size):\n",
    "  idx = np.random.choice(len(x_train), batch_size)\n",
    "  return x_train[idx], y_train[idx]"
   ]
  },
  {
   "cell_type": "code",
   "execution_count": 45,
   "id": "d1cad49a-c5db-4e88-be99-0b82fe980442",
   "metadata": {
    "tags": []
   },
   "outputs": [],
   "source": [
    "θ2 = []\n",
    "for batch_size in batch_size_list:\n",
    "  for n_model in n_model_list:\n",
    "    n_features = x_train.shape[1]\n",
    "    α_vec = np.random.choice(α_list, n_model)\n",
    "    β_vec = np.random.choice(beta_list, n_model)\n",
    "    β2_vec = np.random.choice(beta2_list, n_model)\n",
    "    λ_vec = np.random.choice(λ_list, n_model)\n",
    "\n",
    "    # optmizer = optax.adam(0.01, 0.99, 0.9)\n",
    "    optmizer = optax.adam(α_vec[0], β_vec[0], β2_vec[0])\n",
    "    Θ = jnp.zeros(n_features)\n",
    "    opt_state = optmizer.init(Θ)\n",
    "\n",
    "    Θ = stack(Θ)\n",
    "    opt_state = jax.tree.map(stack, opt_state)\n",
    "\n",
    "    #opt_state = jax.tree(lambda s: stack(s, n_model), opt_state)\n",
    "    # opt_state = jax.tree_util.tree_map(lambda s: stack(s, 20), opt_state) #tree_util <- tree\n",
    "\n",
    "\n",
    "    for iteration in range(5000):\n",
    "      Xi, yi = sample(batch_size)\n",
    "\n",
    "      Θ, opt_state = update(Θ, opt_state, Xi, yi, α_vec, β_vec, β2_vec, λ_vec)\n",
    "    # Best model choice\n",
    "    idx_best = jnp.argmin(evaluate(Θ))\n",
    "    θ_dic = {\n",
    "        \"α\": α_vec[idx_best],\n",
    "        \"λ\": λ_vec[idx_best],\n",
    "        \"β\": β_vec[idx_best],\n",
    "        \"β2\": β2_vec[idx_best],\n",
    "        \"batch_size\": batch_size,\n",
    "        \"n_model\": n_model,\n",
    "        \"MSE\": evaluate(Θ)[idx_best],\n",
    "        \"Θ\": Θ[idx_best]\n",
    "    }\n",
    "    θ2.append(θ_dic)"
   ]
  },
  {
   "cell_type": "code",
   "execution_count": 49,
   "id": "60dd869b-1561-43d6-9cd4-0f8ace7fec1e",
   "metadata": {
    "tags": []
   },
   "outputs": [
    {
     "name": "stderr",
     "output_type": "stream",
     "text": [
      "No artists with labels found to put in legend.  Note that artists whose label start with an underscore are ignored when legend() is called with no argument.\n"
     ]
    },
    {
     "name": "stdout",
     "output_type": "stream",
     "text": [
      "0.29942402\n"
     ]
    },
    {
     "data": {
      "image/png": "[encoded data removed]",
      "text/plain": [
       "<Figure size 640x480 with 1 Axes>"
      ]
     },
     "metadata": {},
     "output_type": "display_data"
    }
   ],
   "source": [
    "# Test the best model on the test set\n",
    "MSE_test = test(best_model['Θ'])\n",
    "print(MSE_test)  # Print the Mean Squared Error on the test set\n",
    "\n",
    "# Generate predictions using the best model\n",
    "pred = x_test @ best_model['Θ']\n",
    "\n",
    "# Visualize the predictions vs actual values\n",
    "plot(pred, y_test)\n",
    "\n",
    "# Store the parameters of the best model\n",
    "final_θ = best_model['Θ']"
   ]
  },
  {
   "cell_type": "code",
   "execution_count": 51,
   "id": "bca0f9cb-4aa2-4b99-b8f3-f4675d42e303",
   "metadata": {
    "tags": []
   },
   "outputs": [
    {
     "name": "stdout",
     "output_type": "stream",
     "text": [
      "Historical VaR at 95% confidence level: -4.47%\n"
     ]
    }
   ],
   "source": [
    "def Value_at_Risk(x, y):\n",
    "    \"\"\"\n",
    "    Calculate the Historical Value at Risk (VaR) based on the model predictions and actual values.\n",
    "    \n",
    "    Args:\n",
    "    x (array): Predicted values\n",
    "    y (array): Actual values\n",
    "    \n",
    "    Returns:\n",
    "    None (prints the VaR)\n",
    "    \"\"\"\n",
    "    # Calculate actual and predicted returns\n",
    "    actual_returns = (y[1:] - y[:-1]) / y[:-1]\n",
    "    predicted_returns = (x[1:] - x[:-1]) / x[:-1]\n",
    "    \n",
    "    # Calculate residuals (difference between actual and predicted returns)\n",
    "    residuals = actual_returns - predicted_returns\n",
    "    \n",
    "    # Set confidence level for VaR\n",
    "    confidence_level = 0.95\n",
    "    percentile = 1 - confidence_level\n",
    "    \n",
    "    # Calculate Historical VaR\n",
    "    historical_var = np.percentile(residuals, percentile * 100)\n",
    "    historical_var = round(historical_var, 2)\n",
    "    \n",
    "    # Print the result\n",
    "    print(f\"Historical VaR at 95% confidence level: {historical_var}%\")\n",
    "\n",
    "# Calculate and print VaR for the best model\n",
    "Value_at_Risk(pred, y_test)"
   ]
  },
  {
   "cell_type": "code",
   "execution_count": 53,
   "id": "5f7a3f39-f820-468b-846e-e8e59864d89c",
   "metadata": {
    "tags": []
   },
   "outputs": [],
   "source": [
    "def f(X):\n",
    "    \"\"\"\n",
    "    Prediction function using the final model parameters.\n",
    "    \n",
    "    Args:\n",
    "    X (array): Input features\n",
    "    \n",
    "    Returns:\n",
    "    array: Predicted values\n",
    "    \"\"\"\n",
    "    return X @ final_θ"
   ]
  }
 ],
 "metadata": {
  "kernelspec": {
   "display_name": "Python 3 (ipykernel)",
   "language": "python",
   "name": "python3"
  },
  "language_info": {
   "codemirror_mode": {
    "name": "ipython",
    "version": 3
   },
   "file_extension": ".py",
   "mimetype": "text/x-python",
   "name": "python",
   "nbconvert_exporter": "python",
   "pygments_lexer": "ipython3",
   "version": "3.11.5"
  }
 },
 "nbformat": 4,
 "nbformat_minor": 5
}
